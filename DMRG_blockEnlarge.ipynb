{
  "cells": [
    {
      "cell_type": "markdown",
      "metadata": {
        "id": "qgDkpOWsmfkI"
      },
      "source": [
        "# DMRG Test: Block Growth Version"
      ]
    },
    {
      "cell_type": "markdown",
      "metadata": {
        "id": "eQTBQ90omfkK"
      },
      "source": [
        "Edited by [Song Menghan](https://quantummc.xyz/members/menghan-song/), Aug.2022.\n",
        "\n",
        "This is a notebook for a simple traditional DMRG algorithm with block growth method. The code shown in this notebook is adapted from Dr. Garrison and Dr. Mishmash from the [simple-dmrg website](https://simple-dmrg.readthedocs.io/en/latest/).  \n",
        "\n",
        "For further information, one can read the reference articles of this notebook by Malvezzi [arXiv:cond-mat/0304375](https://arxiv.org/abs/cond-mat/0304375v1) and by Schollwoeck [arXiv:1008.3477](https://arxiv.org/abs/1008.3477v2)."
      ]
    },
    {
      "cell_type": "markdown",
      "metadata": {
        "id": "HOEAauKqmfkK"
      },
      "source": [
        "## 1. Introduction\n",
        "\n",
        "### 1.1 Background\n",
        "The core idea behind the DMRG is to find a way in which one can increase the system size without increasing the Hilbert space.\n",
        "\n",
        "This is typically done in two steps:\n",
        "\n",
        "$\\bullet $ Construct large systems from samll systems by gradually increase the system size. So far, the Hilbert space grows exponentially and we have not improved anything.\n",
        "\n",
        "$\\bullet $ Truncate the Hilbert space to a certain value, keeping its size invariant when more sites are added.\n",
        "\n",
        "Here two key steps one needs to implement:\n",
        "\n",
        "$\\bullet$ How to enlarge the system?\n",
        "\n",
        "$\\bullet$ What is the criterion to truncate the Hilbert space?\n"
      ]
    },
    {
      "cell_type": "markdown",
      "metadata": {
        "id": "zMO6gvc7mfkL"
      },
      "source": [
        "### 1.2 Procedure\n",
        "To start with, we consider a single site which is described by the state $d_i (i=1,...,D)$. Define a block $B(l,m)$ consist $l$ sites and $H_B$ denotes the Hamiltonion of length $l$ chain. For a Heisenberg chain, $H_b$ is,\n",
        "$$\n",
        "H_B = \\sum_{\\left \\langle i,j \\right \\rangle \\in B }\\hat{S_i}\\hat{S_j},\n",
        "$$\n",
        "where $B$ is a block containing $l$ sites and $m$ is the dimension of the basis in which we represent the operators of the block (without any truncation, $m=D^{L}$).\n",
        "\n",
        "The block is then grown by adding a site to it, forming an enlarged block, $B^{e}$. Denote $\\left | b_1  \\right \\rangle ...\\left | b_m  \\right \\rangle $ and $\\left | d_1  \\right \\rangle ...\\left | d_D  \\right \\rangle $ the basis of the block and the additional site, the basis of the enlarged block is their direct product,\n",
        "\n",
        "$$\n",
        "\\left | b_k^{e}  \\right \\rangle=\\left | b_i  \\right \\rangle \\otimes \\left | d_j  \\right \\rangle,\n",
        "$$\n",
        "where $k = 1,2,...,D^{l+1}$, $j = 1,2,...,D^{l}$, $i = 1,...,D$\n",
        "\n",
        "and thus the dimension of the Hilbert space for $B^{e}$ is the product of that for $B(l,m)$ and a site, $i.e. m\\times D = D^{l}\\times D = D^{l+1}$."
      ]
    },
    {
      "cell_type": "markdown",
      "metadata": {
        "id": "kSXkUBWTmfkL"
      },
      "source": [
        "<img src=\"https://raw.githubusercontent.com/hylu666/hku-physics4150/main/DMRG_tutorial/block_enlarge.png\" width=500 height=400/>\n",
        "\n",
        "\n",
        "The next step is to form the superblock which consists of two enlarged blocks connected to each other. This sample code considers the open boundary conditions (OBC) and aims to compute the ground state energy of an infinite chain.\n",
        "\n",
        "For infinite chain algorithm, the superblock is formed by connecting the enlarged block $B_{e}$ and its replica(reflected) $B_{e}^{'}$ together. Compute the Hamiltonian of the superblock and diagonalize it to find its ground state energy and wavefunction,\n",
        "\n",
        "$$\n",
        "\\left | \\Psi_{gs} \\right \\rangle =\\sum_{i=1}^{m\\times D}\\sum_{j=1}^{m\\times D} a_{i,j}\\left | b_{i}^{e} \\right \\rangle\\otimes \\left | b_j^{'e} \\right \\rangle,\n",
        "$$\n",
        "\n",
        "which is written in a basis that is the tensor product of the system(e.g. left enlarged block) and the environment(e.g. right replica). We can further compute the density matrix of the system,\n",
        "\n",
        "$$\n",
        "\\rho _{i,i^{'}}=\\sum_{j=1}^{m\\times D}a_{i,j}a_{i^{'},j}^{*} .\n",
        "$$\n",
        "\n",
        "**In statistic mechanics, density matrix tells us which states of the system contribute the most to the above ground state.** The density matrix has the same dimension and block-diagonal structure of $H_e$, for the enlarged block. Let's denote $\\left | u_{a} \\right \\rangle, w_{a}(a=1,...,m\\times D)$ the eigenvectors and eigenvalues of $\\rho$, then $\\sum_{a}w_a =1$ with $w_a$ is the probability of the system being in the state $\\left | u_{a} \\right \\rangle$ when the universe is at the ground state $\\left | \\Psi_{gs} \\right \\rangle$.\n",
        "\n",
        "<br/>\n",
        "\n",
        "### 1.3 Reduced density matrix\n",
        "The above analysis guides to keep only the most relevant states to describe the system at the ground states, which reduce the exponentially large Hilbert space into a fixed size. To make an optimal choice, we need to order the state $\\left | u_{a} \\right \\rangle$ by their eigenvalues $w_{a}$ in a decending order and we only use the largest $m$ eigenvectors as a new reduced basis to describe $B_e$. Now the enlarged block is interpreted as $B_e (l+1,m)$ instead of $B_e (l+1,m\\times D)$.\n",
        "\n",
        "Since we adapt a new basis for $B_e$. We need to rotate the operators into the new basis. For example, the Hamiltonian is transformed as,\n",
        "\n",
        "$$\n",
        "H_{B(l+1,m)}=OH_{e}O^{\\dagger},\n",
        "$$\n",
        "\n",
        "where the rows of the $(m,(m\\times D))$ matrix $O$ are the selected  $\\left | u_{a} \\right \\rangle$. Again, we clearly see that the Hilbert space size is cut back to $m$.\n",
        "\n",
        "<img src=\"https://raw.githubusercontent.com/hylu666/hku-physics4150/main/DMRG_tutorial/truncation.png\" width=570 height=250/>\n",
        "\n",
        "Then we continue add a site to the exsisting block and repeat the routine. We are able to reach a large system size since the Hilbert space size has a ceiling $m$. By monitoring whether the ground state energy of the superblock converges, one can successfully approximate the true ground state and few low-lying states of the system at infinitely large sizes a.k.a. the thermodynamic limit.\n"
      ]
    },
    {
      "cell_type": "markdown",
      "metadata": {
        "id": "6OMDjHsImfkM"
      },
      "source": [
        "## 2. Sample code"
      ]
    },
    {
      "cell_type": "code",
      "execution_count": 1,
      "metadata": {
        "id": "qAW5uSBcmfkN"
      },
      "outputs": [],
      "source": [
        "from __future__ import print_function, division\n",
        "import numpy as np\n",
        "from scipy.sparse import kron, identity\n",
        "from scipy.sparse.linalg import eigsh  # Lanczos routine from ARPACK\n",
        "from collections import namedtuple\n",
        "import matplotlib.pyplot as plt"
      ]
    },
    {
      "cell_type": "code",
      "execution_count": 2,
      "metadata": {
        "id": "TRMVJcxzmfkO"
      },
      "outputs": [],
      "source": [
        "Block = namedtuple(\"Block\", [\"length\", \"basis_size\", \"operator_dict\"])\n",
        "EnlargedBlock = namedtuple(\"EnlargedBlock\", [\"length\", \"basis_size\", \"operator_dict\"])\n",
        "\n",
        "model_d = 2 # single site basis for spin-1/2\n"
      ]
    },
    {
      "cell_type": "code",
      "execution_count": 3,
      "metadata": {
        "id": "7Qvbb3Z0mfkO"
      },
      "outputs": [],
      "source": [
        "def is_valid_block(block):\n",
        "    for op in block.operator_dict.values():\n",
        "        if op.shape[0] != block.basis_size or op.shape[1] != block.basis_size:\n",
        "            return False\n",
        "    return True\n",
        "is_valid_enlarged_block = is_valid_block"
      ]
    },
    {
      "cell_type": "code",
      "execution_count": 4,
      "metadata": {
        "id": "DbCX9agvmfkP"
      },
      "outputs": [],
      "source": [
        "def GetSpinOp(spin):\n",
        "    '''\n",
        "    Given a spin quantum number\n",
        "    return various spin operators and one site H\n",
        "    '''\n",
        "    Jp = lambda j,m: np.sqrt(j*(j+1)-m*(m+1))\n",
        "    Jm = lambda j,m: np.sqrt(j*(j+1)-m*(m-1))\n",
        "\n",
        "    Mdim = int(2*spin+1)\n",
        "\n",
        "    Sz = np.zeros((Mdim,Mdim))\n",
        "    Sp = np.zeros((Mdim,Mdim))\n",
        "    Sm = np.zeros((Mdim,Mdim))\n",
        "\n",
        "    for ii in range(Mdim):\n",
        "        sm = spin-ii\n",
        "        Sz[ii,ii]= sm\n",
        "        if ii > 0:\n",
        "            Sp[ii-1,ii]=Jp(spin,sm)\n",
        "        if ii < 2*spin:\n",
        "            Sm[ii+1,ii]=Jm(spin,sm)\n",
        "    Sx = (Sp+Sm)/2\n",
        "    Sy = (Sp-Sm)/(2j)\n",
        "\n",
        "    H1 = np.zeros((Mdim,Mdim))\n",
        "\n",
        "    return Sz,Sp,H1"
      ]
    },
    {
      "cell_type": "code",
      "execution_count": 5,
      "metadata": {
        "id": "imCoWXDFmfkP",
        "outputId": "bb45b059-fa59-429f-d1cd-a2842ddb4612",
        "scrolled": true
      },
      "outputs": [
        {
          "data": {
            "text/plain": [
              "(array([[ 0.5,  0. ],\n",
              "        [ 0. , -0.5]]),\n",
              " array([[0., 1.],\n",
              "        [0., 0.]]),\n",
              " array([[0., 0.],\n",
              "        [0., 0.]]))"
            ]
          },
          "execution_count": 5,
          "metadata": {},
          "output_type": "execute_result"
        }
      ],
      "source": [
        "Sz1,Sp1,H1 = GetSpinOp(1/2)\n",
        "Sz1,Sp1,H1"
      ]
    },
    {
      "cell_type": "markdown",
      "metadata": {
        "id": "YW_Ju22tmfkQ"
      },
      "source": [
        "Adding a site to the block, compute the enlarged H as follows:\n",
        "$$\n",
        "H_e=H_B\\otimes I_d+\\frac{J}{2}(S_b^{+}\\otimes S_d^{-}+S_b^{-}\\otimes S_d^{+})+J_z S_b^{z}\\otimes S_d^{z},\n",
        "$$\n",
        "\n",
        "considering the internal block part and the interaction part with a new spin."
      ]
    },
    {
      "cell_type": "code",
      "execution_count": 6,
      "metadata": {
        "id": "ytG0pKOpmfkQ"
      },
      "outputs": [],
      "source": [
        "def H2(Sz1, Sp1, Sz2, Sp2):  # two-site part of the enlarged H\n",
        "    \"\"\"\n",
        "    Given the operators S^z and S^+ on two sites in different Hilbert spaces\n",
        "    (e.g. two blocks), returns a Kronecker product representing the\n",
        "    corresponding two-site term in the Hamiltonian that joins the two sites.\n",
        "    \"\"\"\n",
        "    J = Jz = 1.\n",
        "    TwoSiteH = (J/2)*(kron(Sp1,Sp2.conjugate().transpose())+kron(Sp1.conjugate().transpose(),Sp2))\\\n",
        "    +Jz*kron(Sz1, Sz2)\n",
        "\n",
        "    return TwoSiteH\n"
      ]
    },
    {
      "cell_type": "code",
      "execution_count": 7,
      "metadata": {
        "id": "JjtsyW_jmfkR"
      },
      "outputs": [],
      "source": [
        "initial_block = Block(length=1, basis_size=model_d, operator_dict={\n",
        "    \"H\": H1,\n",
        "    \"conn_Sz\": Sz1,\n",
        "    \"conn_Sp\": Sp1,})\n",
        "\n",
        "# conn refers to the connection operator, that is, the operator on the edge of\n",
        "# the block, on the interior of the chain.  We need to be able to represent S^z\n",
        "# and S^+ on that site in the current basis in order to grow the chain."
      ]
    },
    {
      "cell_type": "code",
      "execution_count": 8,
      "metadata": {
        "id": "vChLFKUNmfkR",
        "outputId": "101bd764-04c5-45ea-8423-e7a36c8b1dd4"
      },
      "outputs": [
        {
          "data": {
            "text/plain": [
              "Block(length=1, basis_size=2, operator_dict={'H': array([[0., 0.],\n",
              "       [0., 0.]]), 'conn_Sz': array([[ 0.5,  0. ],\n",
              "       [ 0. , -0.5]]), 'conn_Sp': array([[0., 1.],\n",
              "       [0., 0.]])})"
            ]
          },
          "execution_count": 8,
          "metadata": {},
          "output_type": "execute_result"
        }
      ],
      "source": [
        "initial_block"
      ]
    },
    {
      "cell_type": "markdown",
      "metadata": {
        "id": "C4aTK-5omfkR"
      },
      "source": [
        "Together with the Block Hamiltonian $H_b$, we need to present the spin operators of the rightmost site of the $\\mathbf{enlarged}$ block in the basis of the enlarged block (basis with one more site added). For example, the spin-1/2 $S_z$ transforms as:\n",
        "$$\n",
        "(S_r^{z})_e = I_b\\otimes S_d^{z}=I_b\\otimes \\begin{bmatrix}\n",
        " 0.5 & 0 \\\\\n",
        " 0 & -0.5\n",
        "\\end{bmatrix}\n",
        "$$\n",
        ", where $I_b$ is the identity matrix of the block Hilbert space, $S_d^{z}$ is the $S_z$ operator for the righmost site."
      ]
    },
    {
      "cell_type": "code",
      "execution_count": 9,
      "metadata": {
        "id": "r0NCLoWgmfkS"
      },
      "outputs": [],
      "source": [
        "def enlarge_block(block):\n",
        "    \"\"\"\n",
        "    Enlarges the block by adding one site\n",
        "    Return the Enlarged block\n",
        "    \"\"\"\n",
        "    mblock = block.basis_size\n",
        "    o = block.operator_dict\n",
        "\n",
        "    # Create the new operators for the enlarged block.  Our basis becomes a\n",
        "    # Kronecker product of the Block basis and the single-site basis.  NOTE:\n",
        "    # `kron` uses the tensor product convention making blocks of the second\n",
        "    # array scaled by the first.  As such, we adopt this convention for\n",
        "    # Kronecker products throughout the code.\n",
        "    enlarged_operator_dict = {\n",
        "        \"H\": kron(o[\"H\"], identity(model_d)) + kron(identity(mblock), H1) + H2(o[\"conn_Sz\"], o[\"conn_Sp\"], Sz1, Sp1),\n",
        "        \"conn_Sz\": kron(identity(mblock), Sz1),\n",
        "        \"conn_Sp\": kron(identity(mblock), Sp1),\n",
        "    }\n",
        "\n",
        "    return EnlargedBlock(length=(block.length + 1),\n",
        "                         basis_size=(block.basis_size * model_d),\n",
        "                         operator_dict=enlarged_operator_dict)"
      ]
    },
    {
      "cell_type": "code",
      "execution_count": 10,
      "metadata": {
        "id": "DJzAZELgmfkS"
      },
      "outputs": [],
      "source": [
        "def ChangeBasis(operator,trans_mat):\n",
        "    '''\n",
        "    Transform the operator into the truncated basis with trans_mat\n",
        "    '''\n",
        "    op_new = trans_mat.conjugate().transpose().dot(operator.dot(trans_mat))\n",
        "    return op_new\n"
      ]
    },
    {
      "cell_type": "markdown",
      "metadata": {
        "id": "c0ie580hmfkS"
      },
      "source": [
        "Here we define a single DMRG step with one site added.\n",
        "\n",
        "Note that the formation of the superblock Hamiltonian is similar to that for $H_e$. They both consist three parts: Hamiltonian for both enlarged block (in the construction for $H_e$, one can regard the additional site as a right block with a single site Hamiltonion which is zero) and the interaction between the connecting sites.\n",
        "\n",
        "$$\n",
        "H_s=H_e\\otimes I_e^{'}+I_e \\otimes H_e^{'}+\\frac{J}{2}((S_r^{+})_e \\otimes (S_r^{-})_{e}^{'}+(S_r^{-})_e\\otimes (S_r^{+})_e^{'})+J_z (S_r^{z})_e\\otimes (S_r^{z})_e^{'},\n",
        "$$\n",
        "\n",
        "where the subscript $r$ means the rightmost site of the block, and $'$ stands for the replica enlarged block.\n",
        "\n",
        "We sum up the eigenvalues of the discarded eigenstates $(1-\\sum_{a=1}^{m}w_a)$ as the measure for the truncation error. In many cases, this number is roughly proportional to the error in the energy."
      ]
    },
    {
      "cell_type": "code",
      "execution_count": 11,
      "metadata": {
        "id": "l0BkUoMDmfkS"
      },
      "outputs": [],
      "source": [
        "def single_dmrg_step(sys,env,mm):\n",
        "    '''\n",
        "    single DMRG step with the maximum truncation mm, mm states in the new basis\n",
        "    '''\n",
        "    assert is_valid_block(sys)\n",
        "    assert is_valid_block(env) #check whether the block is legal\n",
        "\n",
        "    sys_enl = enlarge_block(sys)\n",
        "\n",
        "    if sys is env: #if they are same, not need to compute again\n",
        "        env_enl = sys_enl\n",
        "    else:\n",
        "        env_enl = enlarge_block(env)\n",
        "\n",
        "    assert is_valid_enlarged_block(sys_enl)\n",
        "    assert is_valid_enlarged_block(env_enl) #check whether enl_block is legal\n",
        "\n",
        "    #construct the superblock Hamiltonian.\n",
        "    m_sys_enl = sys_enl.basis_size\n",
        "    m_env_enl = env_enl.basis_size\n",
        "    sys_enl_op = sys_enl.operator_dict\n",
        "    env_enl_op = env_enl.operator_dict\n",
        "    superblock_H = kron(sys_enl_op[\"H\"],identity(m_env_enl))\\\n",
        "                  +kron(identity(m_sys_enl), env_enl_op[\"H\"])\\\n",
        "                  +H2(sys_enl_op[\"conn_Sz\"], sys_enl_op[\"conn_Sp\"], env_enl_op[\"conn_Sz\"], env_enl_op[\"conn_Sp\"])\n",
        "\n",
        "    #find the superblock ground state.\n",
        "    #'SA' means find the 'smallest in amplitude' eig_value\n",
        "    #|psi0> = sigma{i}sigma{j}: a(i,j)|bi>|bj>\n",
        "    #|bi>, |bj> are the basis of the sys and env\n",
        "    #rehape the eigenvector such that (row,colum) corresponds to (sys,env)\n",
        "    #Now, the matrix elements of psi0 are a(i,j)\n",
        "    #rho is the density matrix\n",
        "    (energy), psi0 = eigsh(superblock_H, k=5, which=\"SA\")\n",
        "    psi0 = psi0[:,0].reshape([sys_enl.basis_size, -1], order=\"C\") #gs wavefunction\n",
        "    rho = np.dot(psi0,psi0.conjugate().transpose())\n",
        "\n",
        "    evals,evecs = np.linalg.eigh(rho)\n",
        "    possible_eigenstates = []\n",
        "    for eig_val, eig_vec in zip(evals, evecs.transpose()):\n",
        "        possible_eigenstates.append((eig_val, eig_vec))\n",
        "    possible_eigenstates.sort(reverse=True, key=lambda x: x[0])  # largest eigenvalue first\n",
        "\n",
        "    #Based on the truncation 'mm', compute trans_mat\n",
        "    my_m = min(len(possible_eigenstates),mm)\n",
        "    trans_mat = np.zeros((sys_enl.basis_size, my_m), dtype='d', order='F')\n",
        "    for i,(eig_val,eig_vec) in enumerate(possible_eigenstates[:my_m]):\n",
        "        trans_mat[:,i] = eig_vec\n",
        "\n",
        "    truncation_error = 1 - sum([x[0] for x in possible_eigenstates[:my_m]])\n",
        "    print(\"truncation error:\", truncation_error)\n",
        "\n",
        "    #change the basis for each operator\n",
        "    new_operator_dict={}\n",
        "    for name, op in sys_enl.operator_dict.items():\n",
        "        new_operator_dict[name] = ChangeBasis(op,trans_mat)\n",
        "\n",
        "    newblock = Block(length=sys_enl.length,\n",
        "                     basis_size=my_m,\n",
        "                     operator_dict=new_operator_dict)\n",
        "\n",
        "    return newblock, energy[0],(energy[1]-energy[0]),(energy[4]-energy[0])\n",
        "\n",
        "\n",
        "\n"
      ]
    },
    {
      "cell_type": "code",
      "execution_count": 12,
      "metadata": {
        "id": "hOxMQH5jPza1"
      },
      "outputs": [],
      "source": [
        "(energy,), psi0  = eigsh(Sz1, k=1, which=\"SA\")"
      ]
    },
    {
      "cell_type": "code",
      "execution_count": 13,
      "metadata": {
        "id": "Bk4SL1NJPza2",
        "outputId": "f695d625-8844-4e65-d41a-57a9d4411f05",
        "scrolled": true
      },
      "outputs": [
        {
          "data": {
            "text/plain": [
              "(-0.5,\n",
              " array([[ 1.28648144e-16],\n",
              "        [-1.00000000e+00]]))"
            ]
          },
          "execution_count": 13,
          "metadata": {},
          "output_type": "execute_result"
        }
      ],
      "source": [
        "energy,psi0"
      ]
    },
    {
      "cell_type": "markdown",
      "metadata": {
        "id": "KZuya86nmfkT"
      },
      "source": [
        "### 2.1 Infinite system algorithm"
      ]
    },
    {
      "cell_type": "code",
      "execution_count": 14,
      "metadata": {
        "id": "hp-FBdNnmfkT"
      },
      "outputs": [],
      "source": [
        "def infinite_system(L,mm):\n",
        "    block = initial_block\n",
        "    #keep growing the block\n",
        "    #let the right block = left block, i.e. env=sys\n",
        "    while 2*block.length<L:\n",
        "        #1st step, grow 1 to 2 sites, hence 4 sites in superblock\n",
        "        print('L =',block.length*2 + 2)\n",
        "        block, energy,gap,gap4 = single_dmrg_step(block, block, mm)\n",
        "        #print('E/L =', energy/(block.length*2))\n",
        "        #print('gap=',gap)\n",
        "        #print(\"gap4=\",gap4)\n"
      ]
    },
    {
      "cell_type": "code",
      "execution_count": null,
      "metadata": {
        "id": "-1kNNkXwmfkT"
      },
      "outputs": [],
      "source": [
        "def Run_infinite(L):\n",
        "\n",
        "    if __name__ == \"__main__\":\n",
        "        np.set_printoptions(precision=10, suppress=True, threshold=10000, linewidth=300)\n",
        "        infinite_system(L, mm=32)\n",
        "\n"
      ]
    },
    {
      "cell_type": "code",
      "execution_count": null,
      "metadata": {
        "id": "aUhB-OqMmfkT",
        "outputId": "241f0cfd-f9d9-4185-8cbe-ab79f5aca5c8",
        "scrolled": true
      },
      "outputs": [
        {
          "name": "stdout",
          "output_type": "stream",
          "text": [
            "L = 4\n",
            "truncation error: 0.0\n",
            "L = 6\n",
            "truncation error: 6.661338147750939e-16\n",
            "L = 8\n",
            "truncation error: -2.6645352591003757e-15\n",
            "L = 10\n",
            "truncation error: -1.1102230246251565e-15\n",
            "L = 12\n",
            "truncation error: 3.327338404801594e-13\n",
            "L = 14\n",
            "truncation error: 7.822320569061958e-11\n",
            "L = 16\n",
            "truncation error: 1.1214140727133781e-11\n",
            "L = 18\n",
            "truncation error: 5.531203273179131e-10\n",
            "L = 20\n",
            "truncation error: 1.3817580413189035e-10\n",
            "L = 22\n",
            "truncation error: 1.8561204795375374e-09\n",
            "L = 24\n",
            "truncation error: 6.729594659304894e-10\n",
            "L = 26\n",
            "truncation error: 4.5693798744750325e-09\n",
            "L = 28\n",
            "truncation error: 1.8441266291802094e-09\n",
            "L = 30\n",
            "truncation error: 9.252860033726051e-09\n",
            "L = 32\n",
            "truncation error: 4.032179923285639e-09\n",
            "L = 34\n",
            "truncation error: 1.637064905857244e-08\n",
            "L = 36\n",
            "truncation error: 7.53465412284271e-09\n",
            "L = 38\n",
            "truncation error: 2.619453565166907e-08\n",
            "L = 40\n",
            "truncation error: 1.258747672761018e-08\n",
            "L = 42\n",
            "truncation error: 3.886127442065401e-08\n",
            "L = 44\n",
            "truncation error: 1.9352263902483458e-08\n",
            "L = 46\n",
            "truncation error: 5.438713635008696e-08\n",
            "L = 48\n",
            "truncation error: 2.79179347417724e-08\n",
            "L = 50\n",
            "truncation error: 7.26928615080169e-08\n",
            "L = 52\n",
            "truncation error: 3.8309544758696745e-08\n",
            "L = 54\n",
            "truncation error: 9.362920538880104e-08\n",
            "L = 56\n",
            "truncation error: 5.0499540216186745e-08\n",
            "L = 58\n",
            "truncation error: 1.1699924418184793e-07\n",
            "L = 60\n",
            "truncation error: 6.441919919719652e-08\n",
            "L = 62\n",
            "truncation error: 1.4257634717296241e-07\n",
            "L = 64\n",
            "truncation error: 7.99690024200217e-08\n"
          ]
        }
      ],
      "source": [
        "L_list=[]\n",
        "gap_half_list=[]\n",
        "\n",
        "L=64\n",
        "mm=32\n",
        "block = initial_block\n",
        "#keep growing the block\n",
        "#let the right block = left block, i.e. env=sys\n",
        "while 2*block.length<L:\n",
        "    #1st step, grow 1 to 2 sites, hence 4 sites in superblock\n",
        "    print('L =',block.length*2 + 2)\n",
        "    L_list.append(block.length*2 + 2)\n",
        "    block, energy,gap,gap4 = single_dmrg_step(block, block, mm)\n",
        "    #print('E/L =', energy/(block.length*2))\n",
        "    #print('gap=',gap)\n",
        "    #print(\"gap4=\",gap4)\n",
        "    gap_half_list.append(gap)"
      ]
    },
    {
      "cell_type": "code",
      "execution_count": null,
      "metadata": {
        "id": "g1Ah3FSgPza3",
        "outputId": "2100e963-99d4-4604-80a1-3b35d22c6b6e"
      },
      "outputs": [
        {
          "data": {
            "text/plain": [
              "array([0.25      , 0.16666667, 0.125     , 0.1       , 0.08333333,\n",
              "       0.07142857, 0.0625    , 0.05555556, 0.05      , 0.04545455,\n",
              "       0.04166667, 0.03846154, 0.03571429, 0.03333333, 0.03125   ,\n",
              "       0.02941176, 0.02777778, 0.02631579, 0.025     , 0.02380952,\n",
              "       0.02272727, 0.02173913, 0.02083333, 0.02      , 0.01923077,\n",
              "       0.01851852, 0.01785714, 0.01724138, 0.01666667, 0.01612903,\n",
              "       0.015625  ])"
            ]
          },
          "execution_count": 17,
          "metadata": {},
          "output_type": "execute_result"
        }
      ],
      "source": [
        "L_rev = 1/np.array(L_list)\n",
        "L_rev"
      ]
    },
    {
      "cell_type": "markdown",
      "metadata": {
        "id": "3CfS_NR0mfkU"
      },
      "source": [
        "### 2.2 Finite system algorithm"
      ]
    },
    {
      "cell_type": "markdown",
      "metadata": {
        "id": "1-nr_dnsmfkU"
      },
      "source": [
        "In this fintie system algorithm, we aims to simulate the finite chain with length L precisely instead of reaching the thermal dynamic limit. Therefore, we need to grow the block to our required length, fix it and we do sweeps to equilibrate the chain. The overall procedure is listed below:\n",
        "1. First use the infinite size algorithm until the superblock size reaches the chain size L under investigation. After every truncation save all operators of the reduced block to disk.\n",
        "2. Denote the length of the system block by $l$. Load the environment block of size $L − l − 2$ from disk, this is the right block.\n",
        "3. Call single_dmrg_step with inputs sys and env which are save in the disk. Then, the system block's length increases by one, $l\\to l+1$.\n",
        "4. Continue step 2 and 3 untill the environment block becomes a single site.\n",
        "5. Then reverse the system and the environment, do step 4 untill energy converges.\n"
      ]
    },
    {
      "cell_type": "code",
      "execution_count": null,
      "metadata": {
        "id": "RlLrzofjmfkU"
      },
      "outputs": [],
      "source": [
        "def graphic(sys_block, env_block, sys_label=\"l\"):\n",
        "    \"\"\"This is a graphic representation of the block,\n",
        "    =: stands for the system\n",
        "    -: stands for the environment\n",
        "    **: stands for the intermedium two sites\n",
        "    \"\"\"\n",
        "    assert sys_label in (\"l\", \"r\")\n",
        "    graphic = (\"=\" * sys_block.length) + \"**\" + (\"-\" * env_block.length)\n",
        "    if sys_label == \"r\":\n",
        "        # The system should be on the right and the environment should be on\n",
        "        # the left, so reverse the graphic.\n",
        "        graphic = graphic[::-1]\n",
        "    return graphic"
      ]
    },
    {
      "cell_type": "code",
      "execution_count": null,
      "metadata": {
        "id": "MbudXHMFmfkU"
      },
      "outputs": [],
      "source": [
        "def finite_system_algorithm(L, m_warmup, m_sweep_list):\n",
        "    '''\n",
        "    This function print the process of sweeps and return the ground state energy of the finite system.\n",
        "    A sweep goes as:\n",
        "    ====**---- >> ======**-- >> -------**= >> --**====== >> =**------- >> ====**----\n",
        "\n",
        "    L: system length\n",
        "    m_warmup: the truncation length used for growing the system to length L\n",
        "    m_sweep_list: a list contains different 'mm' for consideration.\n",
        "    '''\n",
        "    assert L % 2 == 0  # require that L is an even number\n",
        "\n",
        "    # To keep things simple, this dictionary is not actually saved to disk, but\n",
        "    # we use it to represent persistent storage.\n",
        "    block_disk = {}  # \"disk\" storage for Block objects\n",
        "\n",
        "    # Use the infinite system algorithm to build up to desired size.  Each time\n",
        "    # we construct a block, we save it for future reference as both a left\n",
        "    # (\"l\") and right (\"r\") block, as the infinite system algorithm assumes the\n",
        "    # environment is a mirror image of the system.\n",
        "    block = initial_block\n",
        "    block_disk[\"l\", block.length] = block\n",
        "    block_disk[\"r\", block.length] = block\n",
        "    while 2 * block.length < L:\n",
        "        # Perform a single DMRG step and save the new Block to \"disk\"\n",
        "        # grow block size to L/2 and now the system is L/2 -2\n",
        "        print(graphic(block, block))\n",
        "        block, energy,gap,gap4 = single_dmrg_step(block, block, mm=m_warmup)\n",
        "        print(\"E/L =\", energy / (block.length * 2))\n",
        "        #print(\"gap =\",gap)\n",
        "        #print(\"gap4 =\",gap4)\n",
        "\n",
        "        block_disk[\"l\", block.length] = block\n",
        "        block_disk[\"r\", block.length] = block\n",
        "\n",
        "    # Now that the system is built up to its full size, we perform sweeps using\n",
        "    # the finite system algorithm.  At first the left block will act as the\n",
        "    # system, growing at the expense of the right block (the environment), but\n",
        "    # once we come to the end of the chain these roles will be reversed.\n",
        "    sys_label, env_label = \"l\", \"r\"\n",
        "    sys_block = block; del block  # rename the variable\n",
        "    for mm in m_sweep_list:\n",
        "        while True:\n",
        "            # Load the appropriate environment block from \"disk\"\n",
        "            env_block = block_disk[env_label, L - sys_block.length - 2]\n",
        "            if env_block.length == 1:\n",
        "                # We've come to the end of the chain, so we reverse course.\n",
        "                sys_block, env_block = env_block, sys_block\n",
        "                sys_label, env_label = env_label, sys_label\n",
        "\n",
        "            # Perform a single DMRG step.\n",
        "            print(graphic(sys_block, env_block, sys_label))\n",
        "            sys_block,energy,gap,gap4 = single_dmrg_step(sys_block, env_block, mm=mm)\n",
        "\n",
        "            print(\"E/L =\", energy / L)\n",
        "            #print(\"gap =\",gap)\n",
        "            #print(\"gap4 =\",gap4)\n",
        "\n",
        "            # Save the block from this step to disk.\n",
        "            block_disk[sys_label, sys_block.length] = sys_block\n",
        "\n",
        "            # Check whether we just completed a full sweep.\n",
        "            if sys_label == \"l\" and 2 * sys_block.length == L:\n",
        "                break  # escape from the \"while True\" loop"
      ]
    },
    {
      "cell_type": "code",
      "execution_count": null,
      "metadata": {
        "id": "bFBB39wKmfkV"
      },
      "outputs": [],
      "source": [
        "def Run_finite(L):\n",
        "    if __name__ == \"__main__\":\n",
        "        np.set_printoptions(precision=10, suppress=True, threshold=10000, linewidth=300)\n",
        "\n",
        "        finite_system_algorithm(L, m_warmup=10, m_sweep_list=[10])"
      ]
    },
    {
      "cell_type": "code",
      "execution_count": null,
      "metadata": {
        "id": "lT5xzCLrmfkV",
        "outputId": "ff3b1b2f-535a-4f1e-d43b-450b3cffc9a0",
        "scrolled": true
      },
      "outputs": [
        {
          "name": "stdout",
          "output_type": "stream",
          "text": [
            "=**-\n",
            "truncation error: -2.220446049250313e-16\n",
            "E/L = -0.40400635094610976\n",
            "==**--\n",
            "truncation error: 6.661338147750939e-16\n",
            "E/L = -0.4155961889813213\n",
            "===**---\n",
            "truncation error: 3.4092688971920637e-07\n",
            "E/L = -0.42186657483598505\n",
            "====**----\n",
            "truncation error: 1.3995481329409643e-07\n",
            "E/L = -0.4258028862172008\n",
            "=====**-----\n",
            "truncation error: 2.1665302253337515e-06\n",
            "E/L = -0.42850647361415956\n",
            "======**------\n",
            "truncation error: 9.703421509632548e-07\n",
            "E/L = -0.4304772936338856\n",
            "=======**-------\n",
            "truncation error: 5.544880608554514e-06\n",
            "E/L = -0.4319793802745005\n",
            "========**--------\n",
            "truncation error: 2.532965212242999e-06\n",
            "E/L = -0.4331599001919672\n",
            "=========**---------\n",
            "truncation error: 9.905859148506835e-06\n",
            "E/L = -0.43411452242845144\n",
            "==========**----------\n",
            "truncation error: 4.502882105295036e-06\n",
            "E/L = -0.43489931984524904\n",
            "===========**-----------\n",
            "truncation error: 1.4637933236749667e-05\n",
            "E/L = -0.43555902068046665\n",
            "============**------------\n",
            "truncation error: 6.579445688936758e-06\n",
            "E/L = -0.4361176739098237\n",
            "=============**-------------\n",
            "truncation error: 1.930884321699189e-05\n",
            "E/L = -0.4366004939160582\n",
            "==============**--------------\n",
            "truncation error: 8.572602193446244e-06\n",
            "E/L = -0.4370179156153108\n",
            "===============**---------------\n",
            "truncation error: 2.3662352577225043e-05\n",
            "E/L = -0.4373863898261738\n",
            "================**----------------\n",
            "truncation error: 1.0384388951178991e-05\n",
            "E/L = -0.437709790267017\n",
            "=================**-----------------\n",
            "truncation error: 2.7571861065056602e-05\n",
            "E/L = -0.4380001286199867\n",
            "==================**------------------\n",
            "truncation error: 1.1976497049204227e-05\n",
            "E/L = -0.438257840823357\n",
            "===================**-------------------\n",
            "truncation error: 3.099487960001035e-05\n",
            "E/L = -0.4384924530532814\n",
            "====================**--------------------\n",
            "truncation error: 1.3344981994123373e-05\n",
            "E/L = -0.4387025025816701\n",
            "=====================**---------------------\n",
            "truncation error: 3.3938904067554176e-05\n",
            "E/L = -0.43889599478949487\n",
            "======================**----------------------\n",
            "truncation error: 1.4503800902176955e-05\n",
            "E/L = -0.43907039008031207\n",
            "=======================**-----------------------\n",
            "truncation error: 3.6438416312734034e-05\n",
            "E/L = -0.4392326854841518\n",
            "========================**----------------------\n",
            "truncation error: 1.498073949568468e-05\n",
            "E/L = -0.4392314689936286\n",
            "=========================**---------------------\n",
            "truncation error: 3.608852021308451e-05\n",
            "E/L = -0.4392326619081217\n",
            "==========================**--------------------\n",
            "truncation error: 1.4680261366417646e-05\n",
            "E/L = -0.4392314422494599\n",
            "===========================**-------------------\n",
            "truncation error: 3.504802444154187e-05\n",
            "E/L = -0.4392325996833614\n",
            "============================**------------------\n",
            "truncation error: 1.4079612621009652e-05\n",
            "E/L = -0.4392314030854023\n",
            "=============================**-----------------\n",
            "truncation error: 3.333973250818634e-05\n",
            "E/L = -0.43923250864771984\n",
            "==============================**----------------\n",
            "truncation error: 1.3178642205624591e-05\n",
            "E/L = -0.4392313608921963\n",
            "===============================**---------------\n",
            "truncation error: 3.0928007462849294e-05\n",
            "E/L = -0.4392323963123976\n",
            "================================**--------------\n",
            "truncation error: 1.1954480198750339e-05\n",
            "E/L = -0.439231325358486\n",
            "=================================**-------------\n",
            "truncation error: 2.7755642118210133e-05\n",
            "E/L = -0.43923227019857397\n",
            "==================================**------------\n",
            "truncation error: 1.0375967481546233e-05\n",
            "E/L = -0.43923130703995633\n",
            "===================================**-----------\n",
            "truncation error: 2.3764716155838528e-05\n",
            "E/L = -0.43923213793894417\n",
            "====================================**----------\n",
            "truncation error: 8.418027860224164e-06\n",
            "E/L = -0.43923131550809574\n",
            "=====================================**---------\n",
            "truncation error: 1.8934703262196706e-05\n",
            "E/L = -0.4392320049268433\n",
            "======================================**--------\n",
            "truncation error: 6.093564872799995e-06\n",
            "E/L = -0.4392313527137331\n",
            "=======================================**-------\n",
            "truncation error: 1.3368614443565185e-05\n",
            "E/L = -0.4392318675337814\n",
            "========================================**------\n",
            "truncation error: 3.5325373610728406e-06\n",
            "E/L = -0.4392313979967903\n",
            "=========================================**-----\n",
            "truncation error: 7.492280358012415e-06\n",
            "E/L = -0.43923170375873366\n",
            "==========================================**----\n",
            "truncation error: 1.1728652664633188e-06\n",
            "E/L = -0.43923139323518856\n",
            "===========================================**---\n",
            "truncation error: 2.3779251702160664e-06\n",
            "E/L = -0.43923149133283795\n",
            "============================================**--\n",
            "truncation error: 1.1102230246251565e-15\n",
            "E/L = -0.43923132157414907\n",
            "---------------------------------------------**=\n",
            "truncation error: 1.5543122344752192e-15\n",
            "E/L = -0.4392313215741483\n",
            "--------------------------------------------**==\n",
            "truncation error: -2.220446049250313e-15\n",
            "E/L = -0.4392313215741492\n",
            "-------------------------------------------**===\n",
            "truncation error: 2.3779251705491333e-06\n",
            "E/L = -0.4392314913328373\n",
            "------------------------------------------**====\n",
            "truncation error: 1.1772732246839723e-06\n",
            "E/L = -0.43923139735163774\n",
            "-----------------------------------------**=====\n",
            "truncation error: 7.631650747130792e-06\n",
            "E/L = -0.4392318143889633\n",
            "----------------------------------------**======\n",
            "truncation error: 3.633631388555436e-06\n",
            "E/L = -0.43923154026905364\n",
            "---------------------------------------**=======\n",
            "truncation error: 1.380872146772294e-05\n",
            "E/L = -0.43923216589499736\n",
            "--------------------------------------**========\n",
            "truncation error: 6.3705676134340194e-06\n",
            "E/L = -0.43923169150378677\n",
            "-------------------------------------**=========\n",
            "truncation error: 1.9681610534338922e-05\n",
            "E/L = -0.43923248521901\n",
            "------------------------------------**==========\n",
            "truncation error: 8.859921444726027e-06\n",
            "E/L = -0.4392318243162369\n",
            "-----------------------------------**===========\n",
            "truncation error: 2.474861233248138e-05\n",
            "E/L = -0.43923275237095477\n",
            "----------------------------------**============\n",
            "truncation error: 1.0927059071574874e-05\n",
            "E/L = -0.43923193134524774\n",
            "---------------------------------**=============\n",
            "truncation error: 2.887747020985376e-05\n",
            "E/L = -0.43923296497635556\n",
            "--------------------------------**==============\n",
            "truncation error: 1.255205172889795e-05\n",
            "E/L = -0.4392320130159633\n",
            "-------------------------------**===============\n",
            "truncation error: 3.2089037925842057e-05\n",
            "E/L = -0.43923312699888073\n",
            "------------------------------**================\n",
            "truncation error: 1.3768582335926816e-05\n",
            "E/L = -0.43923207216156984\n",
            "-----------------------------**=================\n",
            "truncation error: 3.4453575754489485e-05\n",
            "E/L = -0.4392332438853734\n",
            "----------------------------**==================\n",
            "truncation error: 1.461987561357514e-05\n",
            "E/L = -0.4392321118144778\n",
            "---------------------------**===================\n",
            "truncation error: 3.604323675565624e-05\n",
            "E/L = -0.43923332052737446\n",
            "--------------------------**====================\n",
            "truncation error: 1.5139365656446913e-05\n",
            "E/L = -0.4392321342987955\n",
            "-------------------------**=====================\n",
            "truncation error: 3.690695390268228e-05\n",
            "E/L = -0.4392333602491088\n",
            "------------------------**======================\n",
            "truncation error: 1.5334722087700925e-05\n",
            "E/L = -0.4392321405347827\n",
            "-----------------------**=======================\n",
            "truncation error: 3.7031503925422093e-05\n",
            "E/L = -0.4392333630908025\n",
            "----------------------**========================\n",
            "truncation error: 1.5210702194679016e-05\n",
            "E/L = -0.4392321266457339\n",
            "---------------------**=========================\n",
            "truncation error: 3.6483437457213164e-05\n",
            "E/L = -0.43923332795031533\n",
            "--------------------**==========================\n",
            "truncation error: 1.4827823516694316e-05\n",
            "E/L = -0.4392320954410287\n",
            "-------------------**===========================\n",
            "truncation error: 3.532781537096685e-05\n",
            "E/L = -0.4392332599428947\n",
            "------------------**============================\n",
            "truncation error: 1.4179839254779836e-05\n",
            "E/L = -0.4392320546402449\n",
            "-----------------**=============================\n",
            "truncation error: 3.353813855022647e-05\n",
            "E/L = -0.4392331657183883\n",
            "----------------**==============================\n",
            "truncation error: 1.3247249046721699e-05\n",
            "E/L = -0.4392320121606162\n",
            "---------------**===============================\n",
            "truncation error: 3.106587019430229e-05\n",
            "E/L = -0.43923305168860743\n",
            "--------------**================================\n"
          ]
        },
        {
          "name": "stdout",
          "output_type": "stream",
          "text": [
            "truncation error: 1.2000656233301932e-05\n",
            "E/L = -0.43923197702047173\n",
            "-------------**=================================\n",
            "truncation error: 2.7848047974288193e-05\n",
            "E/L = -0.43923292478200193\n",
            "------------**==================================\n",
            "truncation error: 1.0405821567749385e-05\n",
            "E/L = -0.43923195938178844\n",
            "-----------**===================================\n",
            "truncation error: 2.3823284432844538e-05\n",
            "E/L = -0.43923279223883066\n",
            "----------**====================================\n",
            "truncation error: 8.435993896660499e-06\n",
            "E/L = -0.4392319685551134\n",
            "---------**=====================================\n",
            "truncation error: 1.8968705286503962e-05\n",
            "E/L = -0.439232659170417\n",
            "--------**======================================\n",
            "truncation error: 6.103090181008852e-06\n",
            "E/L = -0.43923200630994325\n",
            "-------**=======================================\n",
            "truncation error: 1.3385691161271751e-05\n",
            "E/L = -0.43923252174758626\n",
            "------**========================================\n",
            "truncation error: 3.536474365239961e-06\n",
            "E/L = -0.43923205187526587\n",
            "-----**=========================================\n",
            "truncation error: 7.499506060271166e-06\n",
            "E/L = -0.4392323578567785\n",
            "----**==========================================\n",
            "truncation error: 1.1733722816709147e-06\n",
            "E/L = -0.4392320470575484\n",
            "---**===========================================\n",
            "truncation error: 2.3793942558469894e-06\n",
            "E/L = -0.43923214526190574\n",
            "--**============================================\n",
            "truncation error: -2.6645352591003757e-15\n",
            "E/L = -0.43923197539626324\n",
            "=**---------------------------------------------\n",
            "truncation error: 4.440892098500626e-16\n",
            "E/L = -0.43923197539626274\n",
            "==**--------------------------------------------\n",
            "truncation error: -1.3322676295501878e-15\n",
            "E/L = -0.4392319753962628\n",
            "===**-------------------------------------------\n",
            "truncation error: 2.3793942561800563e-06\n",
            "E/L = -0.4392321452619075\n",
            "====**------------------------------------------\n",
            "truncation error: 1.1780059216981442e-06\n",
            "E/L = -0.4392320512230501\n",
            "=====**-----------------------------------------\n",
            "truncation error: 7.638351893657358e-06\n",
            "E/L = -0.43923246864381155\n",
            "======**----------------------------------------\n",
            "truncation error: 3.63768844069412e-06\n",
            "E/L = -0.43923219435074284\n",
            "=======**---------------------------------------\n",
            "truncation error: 1.3826878620282201e-05\n",
            "E/L = -0.43923282075715037\n",
            "========**--------------------------------------\n",
            "truncation error: 6.380850843923369e-06\n",
            "E/L = -0.4392323459090308\n",
            "=========**-------------------------------------\n",
            "truncation error: 1.97185881476436e-05\n",
            "E/L = -0.43923314105249095\n",
            "==========**------------------------------------\n",
            "truncation error: 8.879841042808145e-06\n",
            "E/L = -0.4392324792126232\n",
            "===========**-----------------------------------\n",
            "truncation error: 2.4813163074788314e-05\n",
            "E/L = -0.4392334096067631\n",
            "============**----------------------------------\n",
            "truncation error: 1.0960662447656588e-05\n",
            "E/L = -0.4392325869314124\n",
            "=============**---------------------------------\n",
            "truncation error: 2.8980159320846077e-05\n",
            "E/L = -0.4392336241333011\n",
            "==============**--------------------------------\n",
            "truncation error: 1.2604420979722697e-05\n",
            "E/L = -0.43923266954001106\n",
            "===============**-------------------------------\n",
            "truncation error: 3.22429380495981e-05\n",
            "E/L = -0.43923378871757257\n",
            "================**------------------------------\n",
            "truncation error: 1.3846558541419363e-05\n",
            "E/L = -0.43923272995690166\n",
            "=================**-----------------------------\n",
            "truncation error: 3.467541458757051e-05\n",
            "E/L = -0.4392339089829525\n",
            "==================**----------------------------\n",
            "truncation error: 1.4733526683241571e-05\n",
            "E/L = -0.4392327713728048\n",
            "===================**---------------------------\n",
            "truncation error: 3.635576138072416e-05\n",
            "E/L = -0.43923399010907865\n",
            "====================**--------------------------\n",
            "truncation error: 1.530554483897273e-05\n",
            "E/L = -0.4392327964450919\n",
            "=====================**-------------------------\n",
            "truncation error: 3.734630256846394e-05\n",
            "E/L = -0.43923403605646155\n",
            "======================**------------------------\n",
            "truncation error: 1.5590195092562986e-05\n",
            "E/L = -0.4392328070326243\n",
            "=======================**-----------------------\n",
            "truncation error: 3.768459519437606e-05\n",
            "E/L = -0.43923404926295556\n"
          ]
        }
      ],
      "source": [
        "Run_finite(48)"
      ]
    },
    {
      "cell_type": "markdown",
      "metadata": {
        "id": "7fvvIv2zmfkV"
      },
      "source": [
        "## 3. Benchmark with ED"
      ]
    },
    {
      "cell_type": "code",
      "execution_count": null,
      "metadata": {
        "id": "LA_Qog7bmfkV"
      },
      "outputs": [],
      "source": [
        "def ED_1d(N,OBC=None):\n",
        "    dimension=2**N\n",
        "    #spin chain with all spin-down\n",
        "    z='0'*N\n",
        "    # initialize hamiltonian\n",
        "    H=np.zeros((dimension,dimension))\n",
        "    # Matrix Construction\n",
        "    for a in range(dimension):\n",
        "        if OBC==True:\n",
        "            num=N-1\n",
        "        else:\n",
        "            num=N\n",
        "        for i in range(num): #N-1 if OBC\n",
        "\n",
        "            j=np.mod(i+1,N)\n",
        "            state_chain=bin(a)[2:] # the first two should be omitted for this 'bin' function\n",
        "            l=len(state_chain)\n",
        "    #        print(state_chain)\n",
        "            state_chain=z[0:N-l]+state_chain # make the length equal to N\n",
        "            if state_chain[i]==state_chain[j]: # i=j only diagonal elements\n",
        "                H[a,a]+=0.25\n",
        "            else:                              # else, the raising/lowering operators also have contributions\n",
        "                H[a,a]-=0.25\n",
        "                # then exchange i,j\n",
        "                element_i=state_chain[i]\n",
        "                element_j=state_chain[j]\n",
        "                #flip\n",
        "                if max(i,j)==N-1:\n",
        "                    if i>j:  #here we are doing the concatenation of string (you can try other methods)\n",
        "                        state_chain=element_i+state_chain[1:N-1]+element_j\n",
        "    #                    print(state_chain)\n",
        "                    else:\n",
        "                        state_chain=state_chain[0:i]+element_j+element_i\n",
        "    #                    print(state_chain)\n",
        "                else:\n",
        "                    state_chain=state_chain[0:i]+element_j+element_i+state_chain[j+1:]\n",
        "    #            print(state_chain)\n",
        "                b=int(state_chain,2)\n",
        "                H[a,b]+=0.5\n",
        "    eig_value=np.real(np.linalg.eig(H)[0])# eigen_values\n",
        "    eig_vec=np.real(np.linalg.eig(H)[1])  # eigenstates\n",
        "\n",
        "    idx_sorted1 = np.argsort(eig_value)\n",
        "    eig_value=eig_value[idx_sorted1]\n",
        "    eig_vec=eig_vec[:,idx_sorted1]\n",
        "    eig_value[0]/N, eig_vec[:,0]\n",
        "    energy_level=np.sort(eig_value/N)\n",
        "    #return Ground Energy per site\n",
        "    return energy_level[0],(energy_level[1]-energy_level[0])*N\n"
      ]
    },
    {
      "cell_type": "code",
      "execution_count": null,
      "metadata": {
        "id": "_8OLmI6imfkV",
        "outputId": "2c9578dd-1026-4786-83b4-4c966a4f6555"
      },
      "outputs": [
        {
          "name": "stdout",
          "output_type": "stream",
          "text": [
            "L = 4\n",
            "E/L = -0.40400635094610965\n",
            "gap = 0.6589186225978896\n",
            "L = 6\n",
            "E/L = -0.4155961889813233\n",
            "gap = 0.491581776989405\n",
            "L = 8\n",
            "E/L = -0.4218665748359852\n",
            "gap = 0.39269211092498013\n",
            "L = 10\n",
            "E/L = -0.4258035207282914\n",
            "gap = 0.3273616177813343\n"
          ]
        }
      ],
      "source": [
        "for L in [4,6,8,10]:\n",
        "    print('L =',L)\n",
        "    E0,gap = ED_1d(L,OBC=True)\n",
        "    print('E/L =', E0)\n",
        "    print(\"gap =\", gap)"
      ]
    },
    {
      "cell_type": "markdown",
      "metadata": {
        "id": "XOlHXIRKmfkV"
      },
      "source": [
        "## 4. Test for spin-1 chain"
      ]
    },
    {
      "cell_type": "code",
      "execution_count": null,
      "metadata": {
        "id": "JKigoCtOmfkW",
        "outputId": "44fa8811-014f-4513-e367-e1d7cc047842"
      },
      "outputs": [
        {
          "data": {
            "text/plain": [
              "(array([[ 1.,  0.,  0.],\n",
              "        [ 0.,  0.,  0.],\n",
              "        [ 0.,  0., -1.]]),\n",
              " array([[0.          , 1.4142135624, 0.          ],\n",
              "        [0.          , 0.          , 1.4142135624],\n",
              "        [0.          , 0.          , 0.          ]]),\n",
              " array([[0., 0., 0.],\n",
              "        [0., 0., 0.],\n",
              "        [0., 0., 0.]]))"
            ]
          },
          "execution_count": 26,
          "metadata": {},
          "output_type": "execute_result"
        }
      ],
      "source": [
        "Block = namedtuple(\"Block\", [\"length\", \"basis_size\", \"operator_dict\"])\n",
        "EnlargedBlock = namedtuple(\"EnlargedBlock\", [\"length\", \"basis_size\", \"operator_dict\"])\n",
        "\n",
        "model_d = 3 # single site basis for spin-1/2\n",
        "\n",
        "Sz1,Sp1,H1 = GetSpinOp(1)\n",
        "Sz1,Sp1,H1\n"
      ]
    },
    {
      "cell_type": "code",
      "execution_count": null,
      "metadata": {
        "id": "R1LNVTI7mfkW"
      },
      "outputs": [],
      "source": [
        "initial_block = Block(length=1, basis_size=model_d, operator_dict={\n",
        "    \"H\": H1,\n",
        "    \"conn_Sz\": Sz1,\n",
        "    \"conn_Sp\": Sp1,})"
      ]
    },
    {
      "cell_type": "code",
      "execution_count": null,
      "metadata": {
        "id": "14EhwwIZmfkW",
        "outputId": "662784cf-7774-4ddf-a627-38c0d032d628",
        "scrolled": true
      },
      "outputs": [
        {
          "name": "stdout",
          "output_type": "stream",
          "text": [
            "=**-\n",
            "truncation error: 5.551115123125783e-16\n",
            "E/L = -1.1614378277661457\n",
            "==**--\n",
            "truncation error: 0.0009637667328754596\n",
            "E/L = -1.2283791615707684\n",
            "===**---\n",
            "truncation error: 0.00023703284537568425\n",
            "E/L = -1.2638608781405827\n",
            "====**----\n",
            "truncation error: 0.0022107831288298296\n",
            "E/L = -1.2874131453954003\n",
            "=====**---\n",
            "truncation error: 0.0004276556673125098\n",
            "E/L = -1.286698289371311\n",
            "======**--\n",
            "truncation error: 0.0016124578897075414\n",
            "E/L = -1.2872709070027053\n",
            "-------**=\n",
            "truncation error: -8.881784197001252e-16\n",
            "E/L = -1.2865918526242472\n",
            "------**==\n",
            "truncation error: 0.0016124578897092068\n",
            "E/L = -1.2872709070027035\n",
            "-----**===\n",
            "truncation error: 0.0004352568805590096\n",
            "E/L = -1.2867694802540819\n",
            "----**====\n",
            "truncation error: 0.00215272334100447\n",
            "E/L = -1.2874768896055735\n",
            "---**=====\n",
            "truncation error: 0.00043228848825294097\n",
            "E/L = -1.2868480936644624\n",
            "--**======\n",
            "truncation error: 0.001455816984546332\n",
            "E/L = -1.2874048849700055\n",
            "=**-------\n",
            "truncation error: 1.5543122344752192e-15\n",
            "E/L = -1.2868448094463978\n",
            "==**------\n",
            "truncation error: 0.0014558169845495517\n",
            "E/L = -1.2874048849700037\n",
            "===**-----\n",
            "truncation error: 0.0004320987890187311\n",
            "E/L = -1.2870251156884307\n",
            "====**----\n",
            "truncation error: 0.0019089409565813398\n",
            "E/L = -1.2876066199491896\n"
          ]
        }
      ],
      "source": [
        "Run_finite(10)"
      ]
    },
    {
      "cell_type": "code",
      "execution_count": null,
      "metadata": {
        "id": "WroeBp1ZmfkW",
        "outputId": "ced4f83c-dec9-4630-9fc1-9ef6e56f1a9e",
        "scrolled": true
      },
      "outputs": [
        {
          "name": "stdout",
          "output_type": "stream",
          "text": [
            "L = 4\n",
            "truncation error: -8.881784197001252e-16\n",
            "L = 6\n",
            "truncation error: 2.1094237467877974e-15\n",
            "L = 8\n",
            "truncation error: 1.3120556063839217e-07\n",
            "L = 10\n",
            "truncation error: 2.8087058501213846e-07\n",
            "L = 12\n",
            "truncation error: 9.75163305994009e-07\n",
            "L = 14\n",
            "truncation error: 1.700883004440712e-06\n",
            "L = 16\n",
            "truncation error: 2.793005304146945e-06\n",
            "L = 18\n",
            "truncation error: 3.914402135318795e-06\n",
            "L = 20\n",
            "truncation error: 5.011341162153293e-06\n",
            "L = 22\n",
            "truncation error: 6.085192213678425e-06\n",
            "L = 24\n",
            "truncation error: 6.881850582840521e-06\n",
            "L = 26\n",
            "truncation error: 7.741258076676694e-06\n",
            "L = 28\n",
            "truncation error: 8.297453241712383e-06\n",
            "L = 30\n",
            "truncation error: 8.887600750795421e-06\n",
            "L = 32\n",
            "truncation error: 9.237694169716981e-06\n",
            "L = 34\n",
            "truncation error: 9.622108373186222e-06\n",
            "L = 36\n",
            "truncation error: 9.79942559864444e-06\n",
            "L = 38\n",
            "truncation error: 1.0037182935462852e-05\n",
            "L = 40\n",
            "truncation error: 1.010165743708935e-05\n",
            "L = 42\n",
            "truncation error: 1.0236639096161682e-05\n",
            "L = 44\n",
            "truncation error: 1.0252809659938578e-05\n",
            "L = 46\n",
            "truncation error: 1.0320646494532681e-05\n",
            "L = 48\n",
            "truncation error: 1.0327420849609581e-05\n",
            "L = 50\n",
            "truncation error: 1.0356437768921367e-05\n",
            "L = 52\n",
            "truncation error: 1.0364207857493923e-05\n",
            "L = 54\n",
            "truncation error: 1.0373203101377015e-05\n",
            "L = 56\n",
            "truncation error: 1.0381860673591703e-05\n",
            "L = 58\n",
            "truncation error: 1.0381607903675594e-05\n",
            "L = 60\n",
            "truncation error: 1.0389855308323703e-05\n",
            "L = 62\n",
            "truncation error: 1.038597105551542e-05\n",
            "L = 64\n",
            "truncation error: 1.0393123901608625e-05\n"
          ]
        }
      ],
      "source": [
        "L_list=[]\n",
        "gap_one_list=[]\n",
        "\n",
        "L=64\n",
        "mm=32\n",
        "block = initial_block\n",
        "#keep growing the block\n",
        "#let the right block = left block, i.e. env=sys\n",
        "while 2*block.length<L:\n",
        "    #1st step, grow 1 to 2 sites, hence 4 sites in superblock\n",
        "    print('L =',block.length*2 + 2)\n",
        "    L_list.append(block.length*2 + 2)\n",
        "    block, energy,gap,gap4 = single_dmrg_step(block, block, mm)\n",
        "    #print('E/L =', energy/(block.length*2))\n",
        "    #print('gap=',gap)\n",
        "    #print(\"gap4=\",gap4)\n",
        "    gap_one_list.append(gap4)"
      ]
    },
    {
      "cell_type": "code",
      "execution_count": null,
      "metadata": {
        "id": "iVb5KaO4Pza6"
      },
      "outputs": [],
      "source": [
        "from scipy.optimize import curve_fit"
      ]
    },
    {
      "cell_type": "code",
      "execution_count": null,
      "metadata": {
        "id": "_nLMB5XzmfkW",
        "outputId": "133cafab-a899-4fc3-f5d6-77e6a62d53d4"
      },
      "outputs": [
        {
          "data": {
            "text/plain": [
              "Text(0.8, 0.005, 'From Prof.Han-Qing Wu of SYSU')"
            ]
          },
          "execution_count": 117,
          "metadata": {},
          "output_type": "execute_result"
        },
        {
          "data": {
            "image/png": "[encoded data removed]",
            "text/plain": [
              "<Figure size 1296x432 with 2 Axes>"
            ]
          },
          "metadata": {
            "needs_background": "light"
          },
          "output_type": "display_data"
        }
      ],
      "source": [
        "fig=plt.figure(figsize=(18,6))\n",
        "ax1 = plt.subplot(121)\n",
        "ax2 = plt.subplot(122)\n",
        "\n",
        "\n",
        "ax1.scatter(L_rev,gap_half_list,color=\"g\")\n",
        "ax1.scatter(L_rev,gap_one_list,color=\"y\")\n",
        "\n",
        "\n",
        "def func(x,a,b,c):\n",
        "    return a*x**b+c\n",
        "\n",
        "ax1.scatter(L_rev,gap_half_list,color=\"g\")\n",
        "ax1.scatter(L_rev,gap_one_list,color=\"y\")\n",
        "\n",
        "popt1,pcov1 = curve_fit(func,L_rev[10:],gap_half_list[10:])\n",
        "x1 = np.arange(0,0.25,0.001)\n",
        "y1 = [func(i,popt1[0],popt1[1],popt1[2]) for i in x1]\n",
        "ax1.plot(x1,y1,label = \"spin 1/2\")\n",
        "\n",
        "popt2,pcov2 = curve_fit(func,L_rev[10:],gap_one_list[10:])\n",
        "x2 = np.arange(0,0.25,0.001)\n",
        "y2 = [func(i,popt2[0],popt2[1],popt2[2]) for i in x2]\n",
        "ax1.plot(x2,y2,label=\"spin 1\")\n",
        "\n",
        "ax1.set_xlim(0,0.25)\n",
        "ax1.set_ylim(0,2)\n",
        "ax1.legend(frameon=False,prop={\"size\":15,\"family\":\"Times New Roman\"})\n",
        "ax1.set_title('OBC gap by DMRG',fontsize=15)\n",
        "ax1.set_xlabel('1/L',fontsize=15)\n",
        "ax1.set_ylabel(\"$\\Delta$\",fontsize=15)\n",
        "\n",
        "xx1,yy1 = np.sort(1/np.arange(8,19,2)),np.array([0.232,0.261,0.298,0.348,0.418,0.523])\n",
        "yy2 = np.array([0.44,0.45,0.46,0.4841964699122272,0.5248,0.5935])\n",
        "ax2.scatter(xx1,yy1,color=\"g\")\n",
        "ax2.scatter(xx1,yy2,color=\"y\")\n",
        "\n",
        "popt3,pcov3 = curve_fit(func,xx1,yy1)\n",
        "xxx1 = np.arange(0,0.15,0.001)\n",
        "yyy1 = [func(i,popt3[0],popt3[1],popt3[2]) for i in xxx1]\n",
        "ax2.plot(xxx1,yyy1,label=\"spin 1/2\")\n",
        "\n",
        "popt4,pcov4 = curve_fit(func,xx1,yy2)\n",
        "xxx2 = np.arange(0,0.15,0.001)\n",
        "yyy2 = [func(i,popt4[0],popt4[1],popt4[2]) for i in xxx2]\n",
        "ax2.plot(xxx2,yyy2,label=\"spin 1\")\n",
        "ax2.set_xlim(0,0.15)\n",
        "ax2.set_ylim(0,0.8)\n",
        "\n",
        "ax2.legend(frameon=False,prop={\"size\":15,\"family\":\"Times New Roman\"})\n",
        "ax2.set_title('PBC gap by ED',fontsize=15)\n",
        "ax2.set_xlabel('1/L',fontsize=15)\n",
        "ax2.set_ylabel(\"$\\Delta$\",fontsize=15)\n",
        "\n",
        "txt=\"From Prof.Han-Qing Wu of SYSU\"\n",
        "fig.text(0.8,0.005,txt,ha=\"right\",fontsize=12)"
      ]
    },
    {
      "cell_type": "markdown",
      "metadata": {
        "id": "p7tLLuW5RgCh"
      },
      "source": [
        "As we can see, DMRG easily approch to large system sizes which are intractable for ED. The difference of the low lying gap between spin-1/2 and spin-1 can be clearly seen.\n",
        "\n",
        "However, the $\\Delta$ at L $\\to$ ∞ obtained from our DMRG code is different from that of ED. This is due to the fact that we truncate the Hilbert space using the ground state density matrix and thus we discard some information of excited states. One can eliminate this issue by truncating the Hilbert space using not only the ground state density matrix but also those of first few excited states."
      ]
    },
    {
      "cell_type": "code",
      "execution_count": null,
      "metadata": {
        "id": "rfXsUzMrPza7"
      },
      "outputs": [],
      "source": []
    }
  ],
  "metadata": {
    "colab": {
      "provenance": []
    },
    "kernelspec": {
      "display_name": "Python 3",
      "language": "python",
      "name": "python3"
    },
    "language_info": {
      "codemirror_mode": {
        "name": "ipython",
        "version": 3
      },
      "file_extension": ".py",
      "mimetype": "text/x-python",
      "name": "python",
      "nbconvert_exporter": "python",
      "pygments_lexer": "ipython3",
      "version": "3.11.5"
    }
  },
  "nbformat": 4,
  "nbformat_minor": 0
}
